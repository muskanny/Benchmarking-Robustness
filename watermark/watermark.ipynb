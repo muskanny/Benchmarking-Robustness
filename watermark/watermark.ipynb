{
 "cells": [
  {
   "cell_type": "code",
   "execution_count": 12,
   "id": "21641b8c",
   "metadata": {},
   "outputs": [
    {
     "name": "stdout",
     "output_type": "stream",
     "text": [
      "Requirement already satisfied: albumentations in c:\\users\\nishtha\\appdata\\roaming\\python\\python39\\site-packages (1.4.8)\n",
      "Requirement already satisfied: numpy>=1.24.4 in c:\\users\\nishtha\\anaconda3\\lib\\site-packages (from albumentations) (1.26.2)\n",
      "Requirement already satisfied: scipy>=1.10.0 in c:\\users\\nishtha\\anaconda3\\lib\\site-packages (from albumentations) (1.13.1)\n",
      "Requirement already satisfied: scikit-image>=0.21.0 in c:\\users\\nishtha\\appdata\\roaming\\python\\python39\\site-packages (from albumentations) (0.22.0)\n",
      "Requirement already satisfied: PyYAML in c:\\users\\nishtha\\anaconda3\\lib\\site-packages (from albumentations) (6.0)\n",
      "Requirement already satisfied: typing-extensions>=4.9.0 in c:\\users\\nishtha\\anaconda3\\lib\\site-packages (from albumentations) (4.12.1)\n",
      "Requirement already satisfied: scikit-learn>=1.3.2 in c:\\users\\nishtha\\appdata\\roaming\\python\\python39\\site-packages (from albumentations) (1.5.0)\n",
      "Requirement already satisfied: pydantic>=2.7.0 in c:\\users\\nishtha\\appdata\\roaming\\python\\python39\\site-packages (from albumentations) (2.7.3)\n",
      "Requirement already satisfied: albucore>=0.0.4 in c:\\users\\nishtha\\appdata\\roaming\\python\\python39\\site-packages (from albumentations) (0.0.9)\n",
      "Requirement already satisfied: opencv-python-headless>=4.9.0.80 in c:\\users\\nishtha\\appdata\\roaming\\python\\python39\\site-packages (from albumentations) (4.10.0.82)\n",
      "Requirement already satisfied: tomli>=2.0.1 in c:\\users\\nishtha\\anaconda3\\lib\\site-packages (from albucore>=0.0.4->albumentations) (2.0.1)\n",
      "Requirement already satisfied: annotated-types>=0.4.0 in c:\\users\\nishtha\\appdata\\roaming\\python\\python39\\site-packages (from pydantic>=2.7.0->albumentations) (0.7.0)\n",
      "Requirement already satisfied: pydantic-core==2.18.4 in c:\\users\\nishtha\\anaconda3\\lib\\site-packages (from pydantic>=2.7.0->albumentations) (2.18.4)\n",
      "Requirement already satisfied: networkx>=2.8 in c:\\users\\nishtha\\anaconda3\\lib\\site-packages (from scikit-image>=0.21.0->albumentations) (2.8.4)\n",
      "Requirement already satisfied: pillow>=9.0.1 in c:\\users\\nishtha\\anaconda3\\lib\\site-packages (from scikit-image>=0.21.0->albumentations) (9.2.0)\n",
      "Requirement already satisfied: imageio>=2.27 in c:\\users\\nishtha\\appdata\\roaming\\python\\python39\\site-packages (from scikit-image>=0.21.0->albumentations) (2.34.1)\n",
      "Requirement already satisfied: tifffile>=2022.8.12 in c:\\users\\nishtha\\anaconda3\\lib\\site-packages (from scikit-image>=0.21.0->albumentations) (2024.5.22)\n",
      "Requirement already satisfied: packaging>=21 in c:\\users\\nishtha\\anaconda3\\lib\\site-packages (from scikit-image>=0.21.0->albumentations) (21.3)\n",
      "Requirement already satisfied: lazy_loader>=0.3 in c:\\users\\nishtha\\appdata\\roaming\\python\\python39\\site-packages (from scikit-image>=0.21.0->albumentations) (0.4)\n",
      "Requirement already satisfied: joblib>=1.2.0 in c:\\users\\nishtha\\appdata\\roaming\\python\\python39\\site-packages (from scikit-learn>=1.3.2->albumentations) (1.4.2)\n",
      "Requirement already satisfied: threadpoolctl>=3.1.0 in c:\\users\\nishtha\\anaconda3\\lib\\site-packages (from scikit-learn>=1.3.2->albumentations) (3.5.0)\n",
      "Requirement already satisfied: pyparsing!=3.0.5,>=2.0.2 in c:\\users\\nishtha\\anaconda3\\lib\\site-packages (from packaging>=21->scikit-image>=0.21.0->albumentations) (3.0.9)\n",
      "Note: you may need to restart the kernel to use updated packages.\n"
     ]
    }
   ],
   "source": [
    "pip install albumentations"
   ]
  },
  {
   "cell_type": "code",
   "execution_count": 1,
   "id": "a21f0830",
   "metadata": {},
   "outputs": [
    {
     "name": "stdout",
     "output_type": "stream",
     "text": [
      "1.4.8\n"
     ]
    }
   ],
   "source": [
    "import albumentations\n",
    "print(albumentations.__version__)"
   ]
  },
  {
   "cell_type": "code",
   "execution_count": 2,
   "id": "8e8186c1",
   "metadata": {},
   "outputs": [],
   "source": [
    "import cv2\n",
    "import numpy as np\n",
    "import albumentations as A\n",
    "from albumentations.core.transforms_interface import ImageOnlyTransform"
   ]
  },
  {
   "cell_type": "code",
   "execution_count": 9,
   "id": "0e05b59d",
   "metadata": {},
   "outputs": [],
   "source": [
    "class AddLogo(ImageOnlyTransform):\n",
    "    def __init__(self, logo_path, alpha=0.5, size=None, x_offset=None, y_offset=None, always_apply=False, p=1.0):\n",
    "        super(AddLogo, self).__init__(always_apply, p)\n",
    "        self.logo = cv2.imread(logo_path, cv2.IMREAD_UNCHANGED)\n",
    "        self.alpha = alpha\n",
    "        \n",
    "        self.size = size\n",
    "        self.x_offset = x_offset\n",
    "        self.y_offset = y_offset\n",
    "\n",
    "        if self.size is not None:\n",
    "            self.logo = cv2.resize(self.logo, self.size, interpolation=cv2.INTER_AREA)\n",
    "\n",
    "    def apply(self, img, **params):\n",
    "        h, w = img.shape[:2]\n",
    "        logo_h, logo_w = self.logo.shape[:2]\n",
    "\n",
    "         # Determine top left corner position for the logo\n",
    "        x_offset = self.x_offset if self.x_offset is not None else w - logo_w\n",
    "        y_offset = self.y_offset if self.y_offset is not None else h - logo_h\n",
    "\n",
    "        # Ensure the logo doesn't go out of image bounds\n",
    "        x_offset = min(max(0, x_offset), w - logo_w)\n",
    "        y_offset = min(max(0, y_offset), h - logo_h)\n",
    "\n",
    "        # Split the logo into BGR and Alpha channels\n",
    "        if self.logo.shape[2] == 4:\n",
    "            b, g, r, a = cv2.split(self.logo)\n",
    "            logo_bgr = cv2.merge((b, g, r))\n",
    "            alpha_mask = a / 255.0\n",
    "        else:\n",
    "            logo_bgr = self.logo\n",
    "            alpha_mask = np.ones(logo_bgr.shape[:2], dtype=float)\n",
    "\n",
    "        # Create a region of interest in the image where the logo will be placed\n",
    "        roi = img[y_offset:y_offset + logo_bgr.shape[0], x_offset:x_offset + logo_bgr.shape[1]]\n",
    "\n",
    "        # Blend the logo with the ROI using the alpha mask\n",
    "        for c in range(0, 3):\n",
    "            roi[:, :, c] = (1.0 - self.alpha * alpha_mask) * roi[:, :, c] + self.alpha * alpha_mask * logo_bgr[:, :, c]\n",
    "\n",
    "        img[y_offset:y_offset + logo_bgr.shape[0], x_offset:x_offset + logo_bgr.shape[1]] = roi\n",
    "        return img\n"
   ]
  },
  {
   "cell_type": "code",
   "execution_count": 12,
   "id": "b7c01e12",
   "metadata": {},
   "outputs": [
    {
     "data": {
      "text/plain": [
       "True"
      ]
     },
     "execution_count": 12,
     "metadata": {},
     "output_type": "execute_result"
    }
   ],
   "source": [
    "# Define the augmentation pipeline with adjustable parameters\n",
    "transform = A.Compose([\n",
    "    AddLogo(logo_path=\"C:/Users/Nishtha/OneDrive/Desktop/DRDO/albumentation/new_drdo_logo.png\", \n",
    "            alpha=0.5,  # Opacity\n",
    "        size=(100, 50),  # Size of the logo (width, height)\n",
    "        x_offset=50,  # X position\n",
    "        y_offset=50,  # Y position\n",
    "        p=1.0)\n",
    "])\n",
    "\n",
    "# Read the input image\n",
    "image = cv2.imread(\"C:/Users/Nishtha/OneDrive/Desktop/DRDO/albumentation/highway1/highway 1_input.jpg\")\n",
    "\n",
    "# Apply the watermark transformation\n",
    "augmented_image = transform(image=image)['image']\n",
    "\n",
    "# Save the output image\n",
    "cv2.imwrite(\"C:/Users/Nishtha/OneDrive/Desktop/DRDO/albumentation/highway1/output1.jpg\", augmented_image)"
   ]
  },
  {
   "cell_type": "code",
   "execution_count": 14,
   "id": "28224623",
   "metadata": {},
   "outputs": [
    {
     "data": {
      "text/plain": [
       "True"
      ]
     },
     "execution_count": 14,
     "metadata": {},
     "output_type": "execute_result"
    }
   ],
   "source": [
    "# Define the augmentation pipeline with adjustable parameters\n",
    "transform = A.Compose([\n",
    "    AddLogo(logo_path=\"C:/Users/Nishtha/OneDrive/Desktop/DRDO/albumentation/new_drdo_logo.png\", \n",
    "            alpha=0.9,  # Opacity\n",
    "        size=(100, 100),  # Size of the logo (width, height)\n",
    "        x_offset=50,  # X position\n",
    "        y_offset=150,  # Y position\n",
    "        p=1.0)\n",
    "])\n",
    "\n",
    "# Read the input image\n",
    "image = cv2.imread(\"C:/Users/Nishtha/OneDrive/Desktop/DRDO/albumentation/highway1/highway 1_input.jpg\")\n",
    "\n",
    "# Apply the watermark transformation\n",
    "augmented_image = transform(image=image)['image']\n",
    "\n",
    "# Save the output image\n",
    "cv2.imwrite(\"C:/Users/Nishtha/OneDrive/Desktop/DRDO/albumentation/highway1/output2.jpg\", augmented_image)"
   ]
  },
  {
   "cell_type": "code",
   "execution_count": 18,
   "id": "89c8ece4",
   "metadata": {},
   "outputs": [
    {
     "data": {
      "text/plain": [
       "True"
      ]
     },
     "execution_count": 18,
     "metadata": {},
     "output_type": "execute_result"
    }
   ],
   "source": [
    "# Define the augmentation pipeline with adjustable parameters\n",
    "transform = A.Compose([\n",
    "    AddLogo(logo_path=\"C:/Users/Nishtha/OneDrive/Desktop/DRDO/albumentation/new_drdo_logo.png\", \n",
    "            alpha=0.5,  # Opacity\n",
    "        size=(150, 150),  # Size of the logo (width, height)\n",
    "        x_offset=0,  # X position\n",
    "        y_offset=1000,  # Y position\n",
    "        p=1.0)\n",
    "])\n",
    "\n",
    "# Read the input image\n",
    "image = cv2.imread(\"C:/Users/Nishtha/OneDrive/Desktop/DRDO/albumentation/highway1/highway 1_input.jpg\")\n",
    "\n",
    "# Apply the watermark transformation\n",
    "augmented_image = transform(image=image)['image']\n",
    "\n",
    "# Save the output image\n",
    "cv2.imwrite(\"C:/Users/Nishtha/OneDrive/Desktop/DRDO/albumentation/highway1/output4.jpg\", augmented_image)"
   ]
  },
  {
   "cell_type": "code",
   "execution_count": 20,
   "id": "8cd79b36",
   "metadata": {},
   "outputs": [
    {
     "data": {
      "text/plain": [
       "True"
      ]
     },
     "execution_count": 20,
     "metadata": {},
     "output_type": "execute_result"
    }
   ],
   "source": [
    "# Define the augmentation pipeline with adjustable parameters\n",
    "transform = A.Compose([\n",
    "    AddLogo(logo_path=\"C:/Users/Nishtha/OneDrive/Desktop/DRDO/albumentation/new_drdo_logo.png\", \n",
    "            alpha=0.8,  # Opacity\n",
    "        size=(150, 150),  # Size of the logo (width, height)\n",
    "        x_offset=1100,  # X position\n",
    "        y_offset=0,  # Y position\n",
    "        p=1.0)\n",
    "])\n",
    "\n",
    "# Read the input image\n",
    "image = cv2.imread(\"C:/Users/Nishtha/OneDrive/Desktop/DRDO/albumentation/highway1/highway 1_input.jpg\")\n",
    "\n",
    "# Apply the watermark transformation\n",
    "augmented_image = transform(image=image)['image']\n",
    "\n",
    "# Save the output image\n",
    "cv2.imwrite(\"C:/Users/Nishtha/OneDrive/Desktop/DRDO/albumentation/highway1/output5.jpg\", augmented_image)"
   ]
  },
  {
   "cell_type": "code",
   "execution_count": null,
   "id": "cb9a6594",
   "metadata": {},
   "outputs": [],
   "source": []
  }
 ],
 "metadata": {
  "kernelspec": {
   "display_name": "Python 3 (ipykernel)",
   "language": "python",
   "name": "python3"
  },
  "language_info": {
   "codemirror_mode": {
    "name": "ipython",
    "version": 3
   },
   "file_extension": ".py",
   "mimetype": "text/x-python",
   "name": "python",
   "nbconvert_exporter": "python",
   "pygments_lexer": "ipython3",
   "version": "3.9.13"
  }
 },
 "nbformat": 4,
 "nbformat_minor": 5
}
